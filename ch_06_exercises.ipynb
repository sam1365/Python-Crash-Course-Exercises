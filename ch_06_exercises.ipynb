{
  "nbformat": 4,
  "nbformat_minor": 0,
  "metadata": {
    "colab": {
      "name": "ch_06_exercises.ipynb",
      "version": "0.3.2",
      "provenance": [],
      "collapsed_sections": [],
      "include_colab_link": true
    },
    "kernelspec": {
      "name": "python3",
      "display_name": "Python 3"
    }
  },
  "cells": [
    {
      "cell_type": "markdown",
      "metadata": {
        "id": "view-in-github",
        "colab_type": "text"
      },
      "source": [
        "<a href=\"https://colab.research.google.com/github/sam1365/Python-Crash-Course-Exercises/blob/master/ch_06_exercises.ipynb\" target=\"_parent\"><img src=\"https://colab.research.google.com/assets/colab-badge.svg\" alt=\"Open In Colab\"/></a>"
      ]
    },
    {
      "metadata": {
        "id": "KPfKw5Bm3Ubp",
        "colab_type": "text"
      },
      "cell_type": "markdown",
      "source": [
        "#Chapter 6: Dictionaries"
      ]
    },
    {
      "metadata": {
        "id": "LiF-XE8u3wVW",
        "colab_type": "text"
      },
      "cell_type": "markdown",
      "source": [
        "##Exercise 6-1: Person "
      ]
    },
    {
      "metadata": {
        "id": "_5B2juJI3T2g",
        "colab_type": "code",
        "outputId": "4364f88c-a586-444d-e1ff-f49b27c490e5",
        "colab": {
          "base_uri": "https://localhost:8080/",
          "height": 92
        }
      },
      "cell_type": "code",
      "source": [
        "person = {\n",
        "    'first_name': 'sadeq',\n",
        "    'last_name': 'sadeqi',\n",
        "    'age': 32,\n",
        "    'city': 'saveh',\n",
        "}\n",
        "\n",
        "print(person['first_name'])\n",
        "print(person['last_name'])\n",
        "print(person['age'])\n",
        "print(person['city'])"
      ],
      "execution_count": 0,
      "outputs": [
        {
          "output_type": "stream",
          "text": [
            "sadeq\n",
            "sadeqi\n",
            "32\n",
            "saveh\n"
          ],
          "name": "stdout"
        }
      ]
    },
    {
      "metadata": {
        "id": "XOywTbAB6Tba",
        "colab_type": "text"
      },
      "cell_type": "markdown",
      "source": [
        "##Exercise 6-2: Favorite Numbers "
      ]
    },
    {
      "metadata": {
        "id": "mYiUIX-k6VqR",
        "colab_type": "code",
        "outputId": "cd73ae65-8a43-4d41-8cff-01bbe5dc56d5",
        "colab": {
          "base_uri": "https://localhost:8080/",
          "height": 111
        }
      },
      "cell_type": "code",
      "source": [
        "favorite_numbers  = {\n",
        "    'jim' : 7,\n",
        "    'john' : 8,\n",
        "    'anna' :10,\n",
        "    'aria' : 1,\n",
        "    'monica' : 11,\n",
        "}\n",
        "\n",
        "print( \"Jim favorite number is: \" + str(favorite_numbers['jim']))\n",
        "print( \"john favorite number is: \" + str(favorite_numbers['john']))\n",
        "print( \"anna favorite number is: \" + str(favorite_numbers['anna']))\n",
        "print( \"aria favorite number is: \" + str(favorite_numbers['aria']))\n",
        "print( \"monica favorite number is: \" + str(favorite_numbers['monica']))"
      ],
      "execution_count": 0,
      "outputs": [
        {
          "output_type": "stream",
          "text": [
            "Jim favorite number is: 7\n",
            "john favorite number is: 8\n",
            "anna favorite number is: 10\n",
            "aria favorite number is: 1\n",
            "monica favorite number is: 11\n"
          ],
          "name": "stdout"
        }
      ]
    },
    {
      "metadata": {
        "id": "_i_fEOkt-Hp9",
        "colab_type": "text"
      },
      "cell_type": "markdown",
      "source": [
        "##Exercise 6-5: Rivers "
      ]
    },
    {
      "metadata": {
        "id": "Evn89xZ1-Iwx",
        "colab_type": "code",
        "outputId": "6313825f-a0e0-44e4-ff7c-d3a59520f0a9",
        "colab": {
          "base_uri": "https://localhost:8080/",
          "height": 74
        }
      },
      "cell_type": "code",
      "source": [
        "rivers = {\n",
        "    'nile' : 'egypt',\n",
        "    'amazon' : 'brazil',\n",
        "    'yangtze' : 'china',\n",
        "}\n",
        "\n",
        "for river in rivers:\n",
        "    print(\"The \" + river.title() + \" runs through \" + rivers[river].title())"
      ],
      "execution_count": 0,
      "outputs": [
        {
          "output_type": "stream",
          "text": [
            "The Nile runs through Egypt\n",
            "The Amazon runs through Brazil\n",
            "The Yangtze runs through China\n"
          ],
          "name": "stdout"
        }
      ]
    },
    {
      "metadata": {
        "id": "TuWWzAWyGpM6",
        "colab_type": "code",
        "outputId": "dbd64aa7-e6ad-4ce3-c4a6-d38de3045ddb",
        "colab": {
          "base_uri": "https://localhost:8080/",
          "height": 74
        }
      },
      "cell_type": "code",
      "source": [
        "for river in rivers:\n",
        "    print(river.title())"
      ],
      "execution_count": 0,
      "outputs": [
        {
          "output_type": "stream",
          "text": [
            "Nile\n",
            "Amazon\n",
            "Yangtze\n"
          ],
          "name": "stdout"
        }
      ]
    },
    {
      "metadata": {
        "id": "tpYcnC8sJ96U",
        "colab_type": "code",
        "outputId": "684fef29-09d1-45e4-d219-882e40d4f4a5",
        "colab": {
          "base_uri": "https://localhost:8080/",
          "height": 74
        }
      },
      "cell_type": "code",
      "source": [
        "for river in rivers:\n",
        "    print(rivers[river].title())"
      ],
      "execution_count": 0,
      "outputs": [
        {
          "output_type": "stream",
          "text": [
            "Egypt\n",
            "Brazil\n",
            "China\n"
          ],
          "name": "stdout"
        }
      ]
    },
    {
      "metadata": {
        "id": "SaEbt1l-KyAq",
        "colab_type": "text"
      },
      "cell_type": "markdown",
      "source": [
        "Exercise 6-6: Polling "
      ]
    },
    {
      "metadata": {
        "id": "pJqeu4khKyda",
        "colab_type": "code",
        "colab": {}
      },
      "cell_type": "code",
      "source": [
        "favorite_languages = {\n",
        "'jen': 'python',\n",
        "'sarah': 'c',\n",
        "'edward': 'ruby',\n",
        "'phil': 'python',\n",
        "}\n",
        "\n",
        "people_poll = ['smith', 'anjelina', 'brad', 'jen', 'aria', 'phil']\n",
        "\n",
        "for people in people_poll:\n",
        "    if people in favorite_languages.keys():\n",
        "        print(people.title() + \" thank for your response!\")\n",
        "    else:\n",
        "        print(people.title() + \" we invite you take the poll!\")\n",
        "\n"
      ],
      "execution_count": 0,
      "outputs": []
    },
    {
      "metadata": {
        "id": "yePnc7JKO1m9",
        "colab_type": "text"
      },
      "cell_type": "markdown",
      "source": [
        "###Exercise 6-7: People"
      ]
    },
    {
      "metadata": {
        "id": "84uNKcAMO8o9",
        "colab_type": "code",
        "outputId": "f45444b0-d479-4058-91d5-ba4263373be1",
        "colab": {
          "base_uri": "https://localhost:8080/",
          "height": 69
        }
      },
      "cell_type": "code",
      "source": [
        "person1 = {\n",
        "    'first_name': 'sadeq',\n",
        "    'last_name': 'sadeqi',\n",
        "    'age': 32,\n",
        "    'city': 'saveh',\n",
        "}\n",
        "person2 = {\n",
        "    'first_name': 'javad',\n",
        "    'last_name': 'heydari',\n",
        "    'age': 34,\n",
        "    'city': 'isfahan',\n",
        "}\n",
        "person3 = {\n",
        "    'first_name': 'milad',\n",
        "    'last_name': 'sadeqi',\n",
        "    'age': 30,\n",
        "    'city': 'saveh',\n",
        "}\n",
        "\n",
        "people = [person1, person2, person3]\n",
        "\n",
        "for person in people:\n",
        "  print(person)"
      ],
      "execution_count": 0,
      "outputs": [
        {
          "output_type": "stream",
          "text": [
            "{'first_name': 'sadeq', 'last_name': 'sadeqi', 'age': 32, 'city': 'saveh'}\n",
            "{'first_name': 'javad', 'last_name': 'heydari', 'age': 34, 'city': 'isfahan'}\n",
            "{'first_name': 'milad', 'last_name': 'sadeqi', 'age': 30, 'city': 'saveh'}\n"
          ],
          "name": "stdout"
        }
      ]
    },
    {
      "metadata": {
        "id": "6kLzQ1lwUDCH",
        "colab_type": "text"
      },
      "cell_type": "markdown",
      "source": [
        "###Exercise 6-8: People"
      ]
    },
    {
      "metadata": {
        "id": "d3RedVpaUKbr",
        "colab_type": "code",
        "outputId": "a9876ded-68e1-4977-f879-c5b55d12b0b4",
        "colab": {
          "base_uri": "https://localhost:8080/",
          "height": 104
        }
      },
      "cell_type": "code",
      "source": [
        "turtle = {\n",
        "    'species' : 'reptile',\n",
        "    'owner' : 'ali'\n",
        "}\n",
        "\n",
        "fish = {\n",
        "    'species' : 'aquatic',\n",
        "    'owner' : 'mehdi'\n",
        "}\n",
        "\n",
        "cat = {\n",
        "    'species' : 'Feliformia',\n",
        "    'owner' : 'reza'\n",
        "}\n",
        "\n",
        "dog = {\n",
        "    'species' : 'Canidae',\n",
        "    'owner' : 'hasan'    \n",
        "}\n",
        "\n",
        "hamster = {\n",
        "    'species' : 'Cricetidae',\n",
        "    'owner' : 'hamid'    \n",
        "}\n",
        "\n",
        "pets = [turtle, fish, cat, dog, hamster]\n",
        "\n",
        "for pet in pets:\n",
        "    print(pet)"
      ],
      "execution_count": 0,
      "outputs": [
        {
          "output_type": "stream",
          "text": [
            "{'species': 'reptile', 'owner': 'ali'}\n",
            "{'species': 'aquatic', 'owner': 'mehdi'}\n",
            "{'species': 'Feliformia', 'owner': 'reza'}\n",
            "{'species': 'Canidae', 'owner': 'hasan'}\n",
            "{'species': 'Cricetidae', 'owner': 'hamid'}\n"
          ],
          "name": "stdout"
        }
      ]
    },
    {
      "metadata": {
        "id": "X9rn8efIXNrh",
        "colab_type": "text"
      },
      "cell_type": "markdown",
      "source": [
        "###Exercise 6-9: Favorite Places"
      ]
    },
    {
      "metadata": {
        "id": "aDJ3X_JEXSkO",
        "colab_type": "code",
        "outputId": "16cb161d-1805-4abb-e9ed-060744fbe007",
        "colab": {
          "base_uri": "https://localhost:8080/",
          "height": 278
        }
      },
      "cell_type": "code",
      "source": [
        "favorite_places = {\n",
        "    'ali' : ['Niagara Falls', 'Himalayas', 'Amazon'],\n",
        "    'hadi': ['russia', 'bankok', 'france'],\n",
        "    'mehdi' : ['china', 'africa', 'brazil']\n",
        "}\n",
        "\n",
        "for name, places in favorite_places.items():\n",
        "    print(\"\\n\" + name.title() + \"'s favorite places are:\")\n",
        "    \n",
        "    for place in places:\n",
        "        print(\"\\t\" + place.title())"
      ],
      "execution_count": 0,
      "outputs": [
        {
          "output_type": "stream",
          "text": [
            "\n",
            "Ali's favorite places are:\n",
            "\tNiagara Falls\n",
            "\tHimalayas\n",
            "\tAmazon\n",
            "\n",
            "Hadi's favorite places are:\n",
            "\tRussia\n",
            "\tBankok\n",
            "\tFrance\n",
            "\n",
            "Mehdi's favorite places are:\n",
            "\tChina\n",
            "\tAfrica\n",
            "\tBrazil\n"
          ],
          "name": "stdout"
        }
      ]
    },
    {
      "metadata": {
        "id": "cSlEhBFVaIBo",
        "colab_type": "text"
      },
      "cell_type": "markdown",
      "source": [
        "###Exercise 6-10: Favorite Numbers\n"
      ]
    },
    {
      "metadata": {
        "id": "GfT7vv9KaUQn",
        "colab_type": "code",
        "outputId": "e8c3f231-2342-4fd5-e1a9-22dc978f9dd3",
        "colab": {
          "base_uri": "https://localhost:8080/",
          "height": 434
        }
      },
      "cell_type": "code",
      "source": [
        "favorite_numbers  = {\n",
        "    'jim' : [7, 10, 12],\n",
        "    'john' : [8],\n",
        "    'anna' :[11, 34, 23],\n",
        "    'aria' : [22, 18, 221],\n",
        "    'monica' : [1,2,3,4]\n",
        "}\n",
        "\n",
        "for name, numbers in favorite_numbers.items():\n",
        "    print(\"\\n\" + name.title() + \"'s favorite numbers are:\")\n",
        "    \n",
        "    for number in numbers:\n",
        "        print(\"\\t\" + str(number))"
      ],
      "execution_count": 0,
      "outputs": [
        {
          "output_type": "stream",
          "text": [
            "\n",
            "Jim's favorite numbers are:\n",
            "\t7\n",
            "\t10\n",
            "\t12\n",
            "\n",
            "John's favorite numbers are:\n",
            "\t8\n",
            "\n",
            "Anna's favorite numbers are:\n",
            "\t11\n",
            "\t34\n",
            "\t23\n",
            "\n",
            "Aria's favorite numbers are:\n",
            "\t22\n",
            "\t18\n",
            "\t221\n",
            "\n",
            "Monica's favorite numbers are:\n",
            "\t1\n",
            "\t2\n",
            "\t3\n",
            "\t4\n"
          ],
          "name": "stdout"
        }
      ]
    },
    {
      "metadata": {
        "id": "yRcS0qee1M33",
        "colab_type": "text"
      },
      "cell_type": "markdown",
      "source": [
        "##Exercise 6-11: Cities"
      ]
    },
    {
      "metadata": {
        "id": "uz_9xvDw2BWY",
        "colab_type": "code",
        "outputId": "d9bc97d6-0c9a-44c7-f55e-ee297fe31bf0",
        "colab": {
          "base_uri": "https://localhost:8080/",
          "height": 413
        }
      },
      "cell_type": "code",
      "source": [
        "cities = {\n",
        "    'shiraz' : {\n",
        "        'country' : 'iran',\n",
        "        'population' : 1869001,\n",
        "        'fact' : 'best wine'\n",
        "    },\n",
        "    'paris' : {\n",
        "        'country' : 'France',\n",
        "        'population' :  2140526,\n",
        "        'fact' : 'capital of fashion'        \n",
        "    },\n",
        "    'New York City' : {\n",
        "        'country' : 'america',\n",
        "        'population' : 8622698,\n",
        "        'fact' : ' Home to the headquarters of the United Nations'\n",
        "    }\n",
        "}\n",
        "\n",
        "for city, features in cities.items():\n",
        "    print(\"\\n\" + \"Some informations about \" + city.title() )\n",
        "    \n",
        "    print( city.title() + \" belongs to \" + features['country'].title() )\n",
        "    print( \"\\n Population of \" + city.title() + \" is : \" + str(features['population']))\n",
        "    print( \"\\n Interesting fact about \" + city.title() + \" is : \" + features['fact'].title())\n",
        "\n",
        "        \n",
        "        \n",
        "        \n",
        "        "
      ],
      "execution_count": 0,
      "outputs": [
        {
          "output_type": "stream",
          "text": [
            "\n",
            "Some informations about Shiraz\n",
            "Shiraz belongs to Iran\n",
            "\n",
            " Population of Shiraz is : 1869001\n",
            "\n",
            " Interesting fact about Shiraz is : Best Wine\n",
            "\n",
            "Some informations about Paris\n",
            "Paris belongs to France\n",
            "\n",
            " Population of Paris is : 2140526\n",
            "\n",
            " Interesting fact about Paris is : Capital Of Fashion\n",
            "\n",
            "Some informations about New York City\n",
            "New York City belongs to America\n",
            "\n",
            " Population of New York City is : 8622698\n",
            "\n",
            " Interesting fact about New York City is :  Home To The Headquarters Of The United Nations\n"
          ],
          "name": "stdout"
        }
      ]
    }
  ]
}