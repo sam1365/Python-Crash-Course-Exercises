{
  "nbformat": 4,
  "nbformat_minor": 0,
  "metadata": {
    "colab": {
      "name": "ch_07_exercises",
      "version": "0.3.2",
      "provenance": [],
      "collapsed_sections": [],
      "include_colab_link": true
    },
    "kernelspec": {
      "name": "python3",
      "display_name": "Python 3"
    }
  },
  "cells": [
    {
      "cell_type": "markdown",
      "metadata": {
        "id": "view-in-github",
        "colab_type": "text"
      },
      "source": [
        "<a href=\"https://colab.research.google.com/github/sam1365/Python-Crash-Course-Exercises/blob/master/ch_07_exercises.ipynb\" target=\"_parent\"><img src=\"https://colab.research.google.com/assets/colab-badge.svg\" alt=\"Open In Colab\"/></a>"
      ]
    },
    {
      "metadata": {
        "id": "C5LdpC-QLglE",
        "colab_type": "text"
      },
      "cell_type": "markdown",
      "source": [
        "#Chapter 7 : User Input and while Loops"
      ]
    },
    {
      "metadata": {
        "id": "j3a21MmrLrr5",
        "colab_type": "text"
      },
      "cell_type": "markdown",
      "source": [
        "###Exercise 7-1: Rental Car"
      ]
    },
    {
      "metadata": {
        "id": "syLg1HGiL7bN",
        "colab_type": "code",
        "outputId": "0070aa76-3e7f-485d-b86d-c5917e59b4dc",
        "colab": {
          "base_uri": "https://localhost:8080/",
          "height": 69
        }
      },
      "cell_type": "code",
      "source": [
        "car = input(\"what kind of rental car you would like?\")\n",
        "print(\"Let me see if I can find a \" + car + \"\\n\")\n",
        " "
      ],
      "execution_count": 0,
      "outputs": [
        {
          "output_type": "stream",
          "text": [
            "what kind of rental car you would like?bmw\n",
            "Let me see if I can find a bmw\n",
            "\n"
          ],
          "name": "stdout"
        }
      ]
    },
    {
      "metadata": {
        "id": "Jp12SBtMNCUV",
        "colab_type": "text"
      },
      "cell_type": "markdown",
      "source": [
        "###Exercise 7-2:  Restaurant Seating"
      ]
    },
    {
      "metadata": {
        "id": "q-34RjOPNBiq",
        "colab_type": "code",
        "outputId": "18677ca2-b3de-4b09-b0aa-59cfe1d464ae",
        "colab": {
          "base_uri": "https://localhost:8080/",
          "height": 69
        }
      },
      "cell_type": "code",
      "source": [
        "seats = input(\"How many people are in your dinner group? \\n\")\n",
        "seats = int(seats)\n",
        "if seats > 8:\n",
        "    print(\"You'll have to wait for a table\")\n",
        "else:\n",
        "    print(\"Your table is ready.\")"
      ],
      "execution_count": 0,
      "outputs": [
        {
          "output_type": "stream",
          "text": [
            "How many people are in your dinner group? \n",
            "12\n",
            "You'll have to wait for a table\n"
          ],
          "name": "stdout"
        }
      ]
    },
    {
      "metadata": {
        "id": "DVq9nm7OPOi4",
        "colab_type": "text"
      },
      "cell_type": "markdown",
      "source": [
        "###Exercise 7-3:  Multiples of Ten"
      ]
    },
    {
      "metadata": {
        "id": "rvKmETRYPY6F",
        "colab_type": "code",
        "outputId": "70d4f71f-3a7a-476d-e1a6-94e239741fe8",
        "colab": {
          "base_uri": "https://localhost:8080/",
          "height": 69
        }
      },
      "cell_type": "code",
      "source": [
        "number = input(\"Please enter a number: \")\n",
        "number = int(number)\n",
        "\n",
        "if (number % 10) == 0:\n",
        "    print(str(number) + \" is a multiple of 10\\n \")\n",
        "else:\n",
        "    print(str(number) +  \" is not a multiple of 10\\n\")"
      ],
      "execution_count": 0,
      "outputs": [
        {
          "output_type": "stream",
          "text": [
            "Please enter a number: 123\n",
            "123 is not a multiple of 10\n",
            "\n"
          ],
          "name": "stdout"
        }
      ]
    },
    {
      "metadata": {
        "id": "8ElbEEDCTW6-",
        "colab_type": "text"
      },
      "cell_type": "markdown",
      "source": [
        "###Exercise 7-4: Pizza Toppings "
      ]
    },
    {
      "metadata": {
        "id": "X8fWdDUZTXdn",
        "colab_type": "code",
        "outputId": "307ee72e-ad5f-4973-d30e-b55720a78c14",
        "colab": {
          "base_uri": "https://localhost:8080/",
          "height": 278
        }
      },
      "cell_type": "code",
      "source": [
        "prompt = \"\\nEnter your topping:\"\n",
        "prompt += \"\\nEnter 'quit' to end the program. \"\n",
        "message = \"\"\n",
        "while True:\n",
        "    message = input(prompt)\n",
        "    if message != 'quit':\n",
        "        print(\"We'll add \" + message + \" to your pizza!\")\n",
        "    else:\n",
        "        break"
      ],
      "execution_count": 0,
      "outputs": [
        {
          "output_type": "stream",
          "text": [
            "\n",
            "Enter your topping:\n",
            "Enter 'quit' to end the program. onion\n",
            "We'll add onion to your pizza!\n",
            "\n",
            "Enter your topping:\n",
            "Enter 'quit' to end the program. pepper\n",
            "We'll add pepper to your pizza!\n",
            "\n",
            "Enter your topping:\n",
            "Enter 'quit' to end the program. sauce\n",
            "We'll add sauce to your pizza!\n",
            "\n",
            "Enter your topping:\n",
            "Enter 'quit' to end the program. quit\n"
          ],
          "name": "stdout"
        }
      ]
    },
    {
      "metadata": {
        "id": "nvWXQgU4kHhZ",
        "colab_type": "text"
      },
      "cell_type": "markdown",
      "source": [
        "###Exercise 7-5: Movie Tickets"
      ]
    },
    {
      "metadata": {
        "id": "EBA0YXnmkKiA",
        "colab_type": "code",
        "outputId": "6b1b4ea2-cc88-462d-c1f8-52da2fd75cee",
        "colab": {
          "base_uri": "https://localhost:8080/",
          "height": 416
        }
      },
      "cell_type": "code",
      "source": [
        "prompt = \"\\nEnter your age:\"\n",
        "prompt += \"\\nEnter 'quit' to end the program. \"\n",
        "\n",
        "while True:\n",
        "    age = input(prompt)\n",
        "    if age == 'quit':\n",
        "        break\n",
        "    age = int(age)\n",
        "    if age >= 0 and age <= 3:\n",
        "        print(\"The ticket is free!\")\n",
        "    elif age > 3 and age <= 12:\n",
        "        print(\"The ticket is 10$ !\")\n",
        "    elif age > 12:\n",
        "        print(\"The ticket is 15$ !\")\n",
        "    else:\n",
        "        print(\"You put the wrong age!\")"
      ],
      "execution_count": 0,
      "outputs": [
        {
          "output_type": "stream",
          "text": [
            "\n",
            "Enter your age:\n",
            "Enter 'quit' to end the program. -1\n",
            "You put the wrong age!\n",
            "\n",
            "Enter your age:\n",
            "Enter 'quit' to end the program. 0\n",
            "The ticket is free!\n",
            "\n",
            "Enter your age:\n",
            "Enter 'quit' to end the program. 2\n",
            "The ticket is free!\n",
            "\n",
            "Enter your age:\n",
            "Enter 'quit' to end the program. 3\n",
            "The ticket is free!\n",
            "\n",
            "Enter your age:\n",
            "Enter 'quit' to end the program. 4\n",
            "The ticket is 10$ !\n",
            "\n",
            "Enter your age:\n",
            "Enter 'quit' to end the program. quit\n"
          ],
          "name": "stdout"
        }
      ]
    },
    {
      "metadata": {
        "id": "I_8_Cvgvmq1T",
        "colab_type": "text"
      },
      "cell_type": "markdown",
      "source": [
        "###Exercise 7-8: Deli"
      ]
    },
    {
      "metadata": {
        "id": "KCG3Nn_kmqUR",
        "colab_type": "code",
        "colab": {
          "base_uri": "https://localhost:8080/",
          "height": 243
        },
        "outputId": "69af57ed-88e7-4b5f-959e-aeedd7fbd7e8"
      },
      "cell_type": "code",
      "source": [
        "sandwich_orders = ['Bacon', 'pastrami', 'egg and cheese', 'Bagel toast', 'Baked bean', 'Baloney (Bologna) salad sandwich', 'Bocadillo']\n",
        "finished_sandwiches = []\n",
        "\n",
        "while sandwich_orders:\n",
        "    current_sandwich = sandwich_orders.pop()\n",
        "    print(\"I made your \" + current_sandwich + \" sandwich\\n\")\n",
        "    \n",
        "    finished_sandwiches.append(current_sandwich)\n",
        "    \n",
        "print(finished_sandwiches)"
      ],
      "execution_count": 3,
      "outputs": [
        {
          "output_type": "stream",
          "text": [
            "I made your Bocadillo sandwich\n",
            "\n",
            "I made your Baloney (Bologna) salad sandwich sandwich\n",
            "\n",
            "I made your Baked bean sandwich\n",
            "\n",
            "I made your Bagel toast sandwich\n",
            "\n",
            "I made your egg and cheese sandwich\n",
            "\n",
            "I made your Bacon sandwich\n",
            "\n",
            "['Bocadillo', 'Baloney (Bologna) salad sandwich', 'Baked bean', 'Bagel toast', 'egg and cheese', 'Bacon']\n"
          ],
          "name": "stdout"
        }
      ]
    },
    {
      "metadata": {
        "id": "K6kLMmA9rWiz",
        "colab_type": "text"
      },
      "cell_type": "markdown",
      "source": [
        "###Exercise 7-9: No Pastrami"
      ]
    },
    {
      "metadata": {
        "id": "7sthA6LLrZn1",
        "colab_type": "code",
        "colab": {
          "base_uri": "https://localhost:8080/",
          "height": 72
        },
        "outputId": "a942fb3d-ff46-4d54-ce5b-fd8c42f8cc27"
      },
      "cell_type": "code",
      "source": [
        "sandwich_orders = ['Bacon', 'pastrami', 'egg and cheese', 'pastrami', 'Bagel toast', 'Baked bean', 'pastrami', 'Baloney (Bologna) salad sandwich', 'Bocadillo', 'pastrami']\n",
        "\n",
        "print(sandwich_orders)\n",
        "\n",
        "while 'pastrami' in sandwich_orders:\n",
        "    sandwich_orders.remove('pastrami')\n",
        "    \n",
        "print(sandwich_orders)"
      ],
      "execution_count": 5,
      "outputs": [
        {
          "output_type": "stream",
          "text": [
            "['Bacon', 'pastrami', 'egg and cheese', 'pastrami', 'Bagel toast', 'Baked bean', 'pastrami', 'Baloney (Bologna) salad sandwich', 'Bocadillo', 'pastrami']\n",
            "['Bacon', 'egg and cheese', 'Bagel toast', 'Baked bean', 'Baloney (Bologna) salad sandwich', 'Bocadillo']\n"
          ],
          "name": "stdout"
        }
      ]
    },
    {
      "metadata": {
        "id": "sy-1p07iu0mF",
        "colab_type": "text"
      },
      "cell_type": "markdown",
      "source": [
        "###Exercise 7-10: Dream Vacation"
      ]
    },
    {
      "metadata": {
        "id": "lJho1L-tu1Ky",
        "colab_type": "code",
        "colab": {
          "base_uri": "https://localhost:8080/",
          "height": 225
        },
        "outputId": "354bfdc3-d09f-4bc1-9455-140d97d183ef"
      },
      "cell_type": "code",
      "source": [
        "responses = {}\n",
        "# Set a flag to indicate that polling is active.\n",
        "polling_active = True\n",
        "while polling_active:\n",
        "    # Prompt for the person's name and response.\n",
        "    name = input(\"\\nWhat is your name? \")\n",
        "    response = input(\"If you could visit one place in the world, where would you go?\")\n",
        "\n",
        "    # Store the response in the dictionary:\n",
        "    responses[name] = response\n",
        "\n",
        "    # Find out if anyone else is going to take the poll.\n",
        "    repeat = input(\"Would you like to let another person respond? (yes/ no) \")\n",
        "    if repeat == 'no':\n",
        "        polling_active = False\n",
        "\n",
        "# Polling is complete. Show the results.\n",
        "print(\"\\n--- Poll Results ---\")\n",
        "\n",
        "for name, response in responses.items():\n",
        "    print(name + \" would like to climb \" + response + \".\")"
      ],
      "execution_count": 8,
      "outputs": [
        {
          "output_type": "stream",
          "text": [
            "\n",
            "What is your name? ali\n",
            "If you could visit one place in the world, where would you go?rio do janiro\n",
            "Would you like to let another person respond? (yes/ no) yes\n",
            "\n",
            "What is your name? maria\n",
            "If you could visit one place in the world, where would you go?france\n",
            "Would you like to let another person respond? (yes/ no) no\n",
            "\n",
            "--- Poll Results ---\n",
            "ali would like to climb rio do janiro.\n",
            "maria would like to climb france.\n"
          ],
          "name": "stdout"
        }
      ]
    }
  ]
}